{
 "cells": [
  {
   "cell_type": "code",
   "execution_count": 1,
   "metadata": {},
   "outputs": [
    {
     "name": "stdout",
     "output_type": "stream",
     "text": [
      "\n"
     ]
    },
    {
     "data": {
      "text/plain": [
       "<Figure size 640x480 with 1 Axes>"
      ]
     },
     "metadata": {},
     "output_type": "display_data"
    }
   ],
   "source": [
    "import numpy as np\n",
    "import matplotlib.dates as mdates\n",
    "import matplotlib.pyplot as plt\n",
    "import datetime\n",
    "\n",
    "my_File = 'datiSicilia.txt'\n",
    "\n",
    "dummy = np.loadtxt(my_File, dtype = 'str', skiprows=1, usecols = [0])\n",
    "dummy_date = [datetime.datetime.strptime(d,'%Y-%m-%d') for d in dummy]\n",
    "\n",
    "contagi_Sicilia = np.loadtxt(my_File, skiprows = 1, usecols=(1), unpack = True)\n",
    "\n",
    "print()\n",
    "\n",
    "figure, axes = plt.subplots()\n",
    "axes.plot(dummy_date, contagi_Sicilia, 'o-', label='contagi Sicilia')\n",
    "axes.axhline(color = 'green')\n",
    "axes.legend()\n",
    "\n",
    "locator = mdates.AutoDateLocator()\n",
    "\n",
    "formatter = mdates.ConciseDateFormatter(locator)\n",
    "\n",
    "axes.xaxis.set_major_locator(locator)\n",
    "axes.xaxis.set_major_formatter(formatter)\n",
    "\n",
    "figure.savefig('grafico-Sicilia.pdf')\n",
    "figure.savefig('grafico-Sicilia.jpg')\n",
    "plt.show()\n"
   ]
  },
  {
   "cell_type": "code",
   "execution_count": null,
   "metadata": {},
   "outputs": [],
   "source": []
  }
 ],
 "metadata": {
  "kernelspec": {
   "display_name": "Python 3",
   "language": "python",
   "name": "python3"
  },
  "language_info": {
   "codemirror_mode": {
    "name": "ipython",
    "version": 3
   },
   "file_extension": ".py",
   "mimetype": "text/x-python",
   "name": "python",
   "nbconvert_exporter": "python",
   "pygments_lexer": "ipython3",
   "version": "3.7.4"
  }
 },
 "nbformat": 4,
 "nbformat_minor": 2
}
